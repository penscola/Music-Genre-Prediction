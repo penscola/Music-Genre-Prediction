{
 "cells": [
  {
   "cell_type": "markdown",
   "metadata": {},
   "source": [
    "<h1><center>Music Genre Application</center></h1>"
   ]
  },
  {
   "cell_type": "markdown",
   "metadata": {},
   "source": [
    "## [1] Objective\n",
    "Develop a machine learning-based music genre classification application that can accurately analyze and categorize audio tracks into predefined music genres."
   ]
  },
  {
   "cell_type": "markdown",
   "metadata": {},
   "source": [
    "## [2] Data Understanding\n",
    "- track_id character Song unique ID\n",
    "- track_name character Song Name\n",
    "- track_artist character Song Artist\n",
    "- track_popularity double Song Popularity (0-100) where higher is better\n",
    "- track_album_id character Album unique ID\n",
    "- track_album_name character Song album name\n",
    "- track_album_release_date character Date when album released\n",
    "- playlist_name character Name of playlist\n",
    "- playlist_id character Playlist ID\n",
    "- playlist_genre character Playlist genre\n",
    "- playlist_subgenre character Playlist subgenre\n",
    "- danceability double Danceability describes how suitable a track is for dancing based on a combination of musical elements including tempo, rhythm stability, beat strength, and overall regularity. A value of 0.0 is least danceable and 1.0 is most danceable.\n",
    "- energy double Energy is a measure from 0.0 to 1.0 and represents a perceptual measure of intensity and activity. Typically, energetic tracks feel fast, loud, and noisy. For example, death metal has high energy, while a Bach prelude scores low on the scale. Perceptual features contributing to this attribute include dynamic range, perceived loudness, timbre, onset rate, and general entropy.\n",
    "- key double The estimated overall key of the track. Integers map to pitches using standard Pitch Class notation . E.g. 0 = C, 1 = C♯/D♭, 2 = D, and so on. If no key was detected, the value is -1.\n",
    "- loudness double The overall loudness of a track in decibels (dB). Loudness values are averaged across the entire track and are useful for comparing relative loudness of tracks. Loudness is the quality of a sound that is the primary psychological correlate of physical strength (amplitude). Values typical range between -60 and 0 db.\n",
    "- mode double Mode indicates the modality (major or minor) of a track, the type of scale from which its melodic content is derived. Major is represented by 1 and minor is 0.\n",
    "- speechiness double Speechiness detects the presence of spoken words in a track. The more exclusively speech-like the recording (e.g. talk show, audio book, poetry), the closer to 1.0 the attribute value. Values above 0.66 describe tracks that are probably made entirely of spoken words. Values between 0.33 and 0.66 describe tracks that may contain both music and speech, either in sections or layered, including such cases as rap music. Values below 0.33 most likely represent music and other non-speech-like tracks.\n",
    "- acousticness double A confidence measure from 0.0 to 1.0 of whether the track is acoustic. 1.0 represents high confidence the track is acoustic.\n",
    "- instrumentalness double Predicts whether a track contains no vocals. \"Ooh\" and \"aah\" sounds are treated as instrumental in this context. Rap or spoken word tracks are clearly \"vocal\". The closer the instrumentalness value is to 1.0, the greater likelihood the track contains no vocal content. Values above 0.5 are intended to represent instrumental tracks, but confidence is higher as the value approaches 1.0.\n",
    "- liveness double Detects the presence of an audience in the recording. Higher liveness values represent an increased probability that the track was performed live. A value above 0.8 provides strong likelihood that the track is live.\n",
    "valence double A measure from 0.0 to 1.0 describing the musical positiveness conveyed by a track. Tracks with high valence sound more positive (e.g. happy, cheerful, euphoric), while tracks with low valence sound more negative (e.g. sad, depressed, angry).\n",
    "- tempo double The overall estimated tempo of a track in beats per minute (BPM). In musical terminology, tempo is the speed or pace of a given piece and derives directly from the average beat duration.\n",
    "- duration_ms double Duration of song in milliseconds"
   ]
  },
  {
   "cell_type": "markdown",
   "metadata": {},
   "source": [
    "## [3] Importing Libraries"
   ]
  },
  {
   "cell_type": "code",
   "execution_count": 29,
   "metadata": {},
   "outputs": [],
   "source": [
    "import warnings\n",
    "warnings.filterwarnings(\"ignore\")"
   ]
  },
  {
   "cell_type": "code",
   "execution_count": 33,
   "metadata": {},
   "outputs": [],
   "source": [
    "import pandas as pd\n",
    "import numpy as np\n",
    "import seaborn as sns\n",
    "import matplotlib.pyplot as plt"
   ]
  },
  {
   "cell_type": "markdown",
   "metadata": {},
   "source": [
    "## [4] Getting the Data"
   ]
  },
  {
   "cell_type": "code",
   "execution_count": 2,
   "metadata": {},
   "outputs": [],
   "source": [
    "df = pd.read_csv('../../data/spotify_songs.csv')"
   ]
  },
  {
   "cell_type": "code",
   "execution_count": 3,
   "metadata": {},
   "outputs": [
    {
     "data": {
      "text/html": [
       "<div>\n",
       "<style scoped>\n",
       "    .dataframe tbody tr th:only-of-type {\n",
       "        vertical-align: middle;\n",
       "    }\n",
       "\n",
       "    .dataframe tbody tr th {\n",
       "        vertical-align: top;\n",
       "    }\n",
       "\n",
       "    .dataframe thead th {\n",
       "        text-align: right;\n",
       "    }\n",
       "</style>\n",
       "<table border=\"1\" class=\"dataframe\">\n",
       "  <thead>\n",
       "    <tr style=\"text-align: right;\">\n",
       "      <th></th>\n",
       "      <th>0</th>\n",
       "      <th>1</th>\n",
       "      <th>2</th>\n",
       "      <th>3</th>\n",
       "      <th>4</th>\n",
       "    </tr>\n",
       "  </thead>\n",
       "  <tbody>\n",
       "    <tr>\n",
       "      <th>track_id</th>\n",
       "      <td>6f807x0ima9a1j3VPbc7VN</td>\n",
       "      <td>0r7CVbZTWZgbTCYdfa2P31</td>\n",
       "      <td>1z1Hg7Vb0AhHDiEmnDE79l</td>\n",
       "      <td>75FpbthrwQmzHlBJLuGdC7</td>\n",
       "      <td>1e8PAfcKUYoKkxPhrHqw4x</td>\n",
       "    </tr>\n",
       "    <tr>\n",
       "      <th>track_name</th>\n",
       "      <td>I Don't Care (with Justin Bieber) - Loud Luxur...</td>\n",
       "      <td>Memories - Dillon Francis Remix</td>\n",
       "      <td>All the Time - Don Diablo Remix</td>\n",
       "      <td>Call You Mine - Keanu Silva Remix</td>\n",
       "      <td>Someone You Loved - Future Humans Remix</td>\n",
       "    </tr>\n",
       "    <tr>\n",
       "      <th>track_artist</th>\n",
       "      <td>Ed Sheeran</td>\n",
       "      <td>Maroon 5</td>\n",
       "      <td>Zara Larsson</td>\n",
       "      <td>The Chainsmokers</td>\n",
       "      <td>Lewis Capaldi</td>\n",
       "    </tr>\n",
       "    <tr>\n",
       "      <th>track_popularity</th>\n",
       "      <td>66</td>\n",
       "      <td>67</td>\n",
       "      <td>70</td>\n",
       "      <td>60</td>\n",
       "      <td>69</td>\n",
       "    </tr>\n",
       "    <tr>\n",
       "      <th>track_album_id</th>\n",
       "      <td>2oCs0DGTsRO98Gh5ZSl2Cx</td>\n",
       "      <td>63rPSO264uRjW1X5E6cWv6</td>\n",
       "      <td>1HoSmj2eLcsrR0vE9gThr4</td>\n",
       "      <td>1nqYsOef1yKKuGOVchbsk6</td>\n",
       "      <td>7m7vv9wlQ4i0LFuJiE2zsQ</td>\n",
       "    </tr>\n",
       "    <tr>\n",
       "      <th>track_album_name</th>\n",
       "      <td>I Don't Care (with Justin Bieber) [Loud Luxury...</td>\n",
       "      <td>Memories (Dillon Francis Remix)</td>\n",
       "      <td>All the Time (Don Diablo Remix)</td>\n",
       "      <td>Call You Mine - The Remixes</td>\n",
       "      <td>Someone You Loved (Future Humans Remix)</td>\n",
       "    </tr>\n",
       "    <tr>\n",
       "      <th>track_album_release_date</th>\n",
       "      <td>2019-06-14</td>\n",
       "      <td>2019-12-13</td>\n",
       "      <td>2019-07-05</td>\n",
       "      <td>2019-07-19</td>\n",
       "      <td>2019-03-05</td>\n",
       "    </tr>\n",
       "    <tr>\n",
       "      <th>playlist_name</th>\n",
       "      <td>Pop Remix</td>\n",
       "      <td>Pop Remix</td>\n",
       "      <td>Pop Remix</td>\n",
       "      <td>Pop Remix</td>\n",
       "      <td>Pop Remix</td>\n",
       "    </tr>\n",
       "    <tr>\n",
       "      <th>playlist_id</th>\n",
       "      <td>37i9dQZF1DXcZDD7cfEKhW</td>\n",
       "      <td>37i9dQZF1DXcZDD7cfEKhW</td>\n",
       "      <td>37i9dQZF1DXcZDD7cfEKhW</td>\n",
       "      <td>37i9dQZF1DXcZDD7cfEKhW</td>\n",
       "      <td>37i9dQZF1DXcZDD7cfEKhW</td>\n",
       "    </tr>\n",
       "    <tr>\n",
       "      <th>playlist_genre</th>\n",
       "      <td>pop</td>\n",
       "      <td>pop</td>\n",
       "      <td>pop</td>\n",
       "      <td>pop</td>\n",
       "      <td>pop</td>\n",
       "    </tr>\n",
       "    <tr>\n",
       "      <th>playlist_subgenre</th>\n",
       "      <td>dance pop</td>\n",
       "      <td>dance pop</td>\n",
       "      <td>dance pop</td>\n",
       "      <td>dance pop</td>\n",
       "      <td>dance pop</td>\n",
       "    </tr>\n",
       "    <tr>\n",
       "      <th>danceability</th>\n",
       "      <td>0.748</td>\n",
       "      <td>0.726</td>\n",
       "      <td>0.675</td>\n",
       "      <td>0.718</td>\n",
       "      <td>0.65</td>\n",
       "    </tr>\n",
       "    <tr>\n",
       "      <th>energy</th>\n",
       "      <td>0.916</td>\n",
       "      <td>0.815</td>\n",
       "      <td>0.931</td>\n",
       "      <td>0.93</td>\n",
       "      <td>0.833</td>\n",
       "    </tr>\n",
       "    <tr>\n",
       "      <th>key</th>\n",
       "      <td>6</td>\n",
       "      <td>11</td>\n",
       "      <td>1</td>\n",
       "      <td>7</td>\n",
       "      <td>1</td>\n",
       "    </tr>\n",
       "    <tr>\n",
       "      <th>loudness</th>\n",
       "      <td>-2.634</td>\n",
       "      <td>-4.969</td>\n",
       "      <td>-3.432</td>\n",
       "      <td>-3.778</td>\n",
       "      <td>-4.672</td>\n",
       "    </tr>\n",
       "    <tr>\n",
       "      <th>mode</th>\n",
       "      <td>1</td>\n",
       "      <td>1</td>\n",
       "      <td>0</td>\n",
       "      <td>1</td>\n",
       "      <td>1</td>\n",
       "    </tr>\n",
       "    <tr>\n",
       "      <th>speechiness</th>\n",
       "      <td>0.0583</td>\n",
       "      <td>0.0373</td>\n",
       "      <td>0.0742</td>\n",
       "      <td>0.102</td>\n",
       "      <td>0.0359</td>\n",
       "    </tr>\n",
       "    <tr>\n",
       "      <th>acousticness</th>\n",
       "      <td>0.102</td>\n",
       "      <td>0.0724</td>\n",
       "      <td>0.0794</td>\n",
       "      <td>0.0287</td>\n",
       "      <td>0.0803</td>\n",
       "    </tr>\n",
       "    <tr>\n",
       "      <th>instrumentalness</th>\n",
       "      <td>0.0</td>\n",
       "      <td>0.00421</td>\n",
       "      <td>0.000023</td>\n",
       "      <td>0.000009</td>\n",
       "      <td>0.0</td>\n",
       "    </tr>\n",
       "    <tr>\n",
       "      <th>liveness</th>\n",
       "      <td>0.0653</td>\n",
       "      <td>0.357</td>\n",
       "      <td>0.11</td>\n",
       "      <td>0.204</td>\n",
       "      <td>0.0833</td>\n",
       "    </tr>\n",
       "    <tr>\n",
       "      <th>valence</th>\n",
       "      <td>0.518</td>\n",
       "      <td>0.693</td>\n",
       "      <td>0.613</td>\n",
       "      <td>0.277</td>\n",
       "      <td>0.725</td>\n",
       "    </tr>\n",
       "    <tr>\n",
       "      <th>tempo</th>\n",
       "      <td>122.036</td>\n",
       "      <td>99.972</td>\n",
       "      <td>124.008</td>\n",
       "      <td>121.956</td>\n",
       "      <td>123.976</td>\n",
       "    </tr>\n",
       "    <tr>\n",
       "      <th>duration_ms</th>\n",
       "      <td>194754</td>\n",
       "      <td>162600</td>\n",
       "      <td>176616</td>\n",
       "      <td>169093</td>\n",
       "      <td>189052</td>\n",
       "    </tr>\n",
       "  </tbody>\n",
       "</table>\n",
       "</div>"
      ],
      "text/plain": [
       "                                                                          0  \\\n",
       "track_id                                             6f807x0ima9a1j3VPbc7VN   \n",
       "track_name                I Don't Care (with Justin Bieber) - Loud Luxur...   \n",
       "track_artist                                                     Ed Sheeran   \n",
       "track_popularity                                                         66   \n",
       "track_album_id                                       2oCs0DGTsRO98Gh5ZSl2Cx   \n",
       "track_album_name          I Don't Care (with Justin Bieber) [Loud Luxury...   \n",
       "track_album_release_date                                         2019-06-14   \n",
       "playlist_name                                                     Pop Remix   \n",
       "playlist_id                                          37i9dQZF1DXcZDD7cfEKhW   \n",
       "playlist_genre                                                          pop   \n",
       "playlist_subgenre                                                 dance pop   \n",
       "danceability                                                          0.748   \n",
       "energy                                                                0.916   \n",
       "key                                                                       6   \n",
       "loudness                                                             -2.634   \n",
       "mode                                                                      1   \n",
       "speechiness                                                          0.0583   \n",
       "acousticness                                                          0.102   \n",
       "instrumentalness                                                        0.0   \n",
       "liveness                                                             0.0653   \n",
       "valence                                                               0.518   \n",
       "tempo                                                               122.036   \n",
       "duration_ms                                                          194754   \n",
       "\n",
       "                                                        1  \\\n",
       "track_id                           0r7CVbZTWZgbTCYdfa2P31   \n",
       "track_name                Memories - Dillon Francis Remix   \n",
       "track_artist                                     Maroon 5   \n",
       "track_popularity                                       67   \n",
       "track_album_id                     63rPSO264uRjW1X5E6cWv6   \n",
       "track_album_name          Memories (Dillon Francis Remix)   \n",
       "track_album_release_date                       2019-12-13   \n",
       "playlist_name                                   Pop Remix   \n",
       "playlist_id                        37i9dQZF1DXcZDD7cfEKhW   \n",
       "playlist_genre                                        pop   \n",
       "playlist_subgenre                               dance pop   \n",
       "danceability                                        0.726   \n",
       "energy                                              0.815   \n",
       "key                                                    11   \n",
       "loudness                                           -4.969   \n",
       "mode                                                    1   \n",
       "speechiness                                        0.0373   \n",
       "acousticness                                       0.0724   \n",
       "instrumentalness                                  0.00421   \n",
       "liveness                                            0.357   \n",
       "valence                                             0.693   \n",
       "tempo                                              99.972   \n",
       "duration_ms                                        162600   \n",
       "\n",
       "                                                        2  \\\n",
       "track_id                           1z1Hg7Vb0AhHDiEmnDE79l   \n",
       "track_name                All the Time - Don Diablo Remix   \n",
       "track_artist                                 Zara Larsson   \n",
       "track_popularity                                       70   \n",
       "track_album_id                     1HoSmj2eLcsrR0vE9gThr4   \n",
       "track_album_name          All the Time (Don Diablo Remix)   \n",
       "track_album_release_date                       2019-07-05   \n",
       "playlist_name                                   Pop Remix   \n",
       "playlist_id                        37i9dQZF1DXcZDD7cfEKhW   \n",
       "playlist_genre                                        pop   \n",
       "playlist_subgenre                               dance pop   \n",
       "danceability                                        0.675   \n",
       "energy                                              0.931   \n",
       "key                                                     1   \n",
       "loudness                                           -3.432   \n",
       "mode                                                    0   \n",
       "speechiness                                        0.0742   \n",
       "acousticness                                       0.0794   \n",
       "instrumentalness                                 0.000023   \n",
       "liveness                                             0.11   \n",
       "valence                                             0.613   \n",
       "tempo                                             124.008   \n",
       "duration_ms                                        176616   \n",
       "\n",
       "                                                          3  \\\n",
       "track_id                             75FpbthrwQmzHlBJLuGdC7   \n",
       "track_name                Call You Mine - Keanu Silva Remix   \n",
       "track_artist                               The Chainsmokers   \n",
       "track_popularity                                         60   \n",
       "track_album_id                       1nqYsOef1yKKuGOVchbsk6   \n",
       "track_album_name                Call You Mine - The Remixes   \n",
       "track_album_release_date                         2019-07-19   \n",
       "playlist_name                                     Pop Remix   \n",
       "playlist_id                          37i9dQZF1DXcZDD7cfEKhW   \n",
       "playlist_genre                                          pop   \n",
       "playlist_subgenre                                 dance pop   \n",
       "danceability                                          0.718   \n",
       "energy                                                 0.93   \n",
       "key                                                       7   \n",
       "loudness                                             -3.778   \n",
       "mode                                                      1   \n",
       "speechiness                                           0.102   \n",
       "acousticness                                         0.0287   \n",
       "instrumentalness                                   0.000009   \n",
       "liveness                                              0.204   \n",
       "valence                                               0.277   \n",
       "tempo                                               121.956   \n",
       "duration_ms                                          169093   \n",
       "\n",
       "                                                                4  \n",
       "track_id                                   1e8PAfcKUYoKkxPhrHqw4x  \n",
       "track_name                Someone You Loved - Future Humans Remix  \n",
       "track_artist                                        Lewis Capaldi  \n",
       "track_popularity                                               69  \n",
       "track_album_id                             7m7vv9wlQ4i0LFuJiE2zsQ  \n",
       "track_album_name          Someone You Loved (Future Humans Remix)  \n",
       "track_album_release_date                               2019-03-05  \n",
       "playlist_name                                           Pop Remix  \n",
       "playlist_id                                37i9dQZF1DXcZDD7cfEKhW  \n",
       "playlist_genre                                                pop  \n",
       "playlist_subgenre                                       dance pop  \n",
       "danceability                                                 0.65  \n",
       "energy                                                      0.833  \n",
       "key                                                             1  \n",
       "loudness                                                   -4.672  \n",
       "mode                                                            1  \n",
       "speechiness                                                0.0359  \n",
       "acousticness                                               0.0803  \n",
       "instrumentalness                                              0.0  \n",
       "liveness                                                   0.0833  \n",
       "valence                                                     0.725  \n",
       "tempo                                                     123.976  \n",
       "duration_ms                                                189052  "
      ]
     },
     "execution_count": 3,
     "metadata": {},
     "output_type": "execute_result"
    }
   ],
   "source": [
    "df.head().T"
   ]
  },
  {
   "cell_type": "code",
   "execution_count": 4,
   "metadata": {},
   "outputs": [
    {
     "name": "stdout",
     "output_type": "stream",
     "text": [
      "<class 'pandas.core.frame.DataFrame'>\n",
      "RangeIndex: 32833 entries, 0 to 32832\n",
      "Data columns (total 23 columns):\n",
      " #   Column                    Non-Null Count  Dtype  \n",
      "---  ------                    --------------  -----  \n",
      " 0   track_id                  32833 non-null  object \n",
      " 1   track_name                32828 non-null  object \n",
      " 2   track_artist              32828 non-null  object \n",
      " 3   track_popularity          32833 non-null  int64  \n",
      " 4   track_album_id            32833 non-null  object \n",
      " 5   track_album_name          32828 non-null  object \n",
      " 6   track_album_release_date  32833 non-null  object \n",
      " 7   playlist_name             32833 non-null  object \n",
      " 8   playlist_id               32833 non-null  object \n",
      " 9   playlist_genre            32833 non-null  object \n",
      " 10  playlist_subgenre         32833 non-null  object \n",
      " 11  danceability              32833 non-null  float64\n",
      " 12  energy                    32833 non-null  float64\n",
      " 13  key                       32833 non-null  int64  \n",
      " 14  loudness                  32833 non-null  float64\n",
      " 15  mode                      32833 non-null  int64  \n",
      " 16  speechiness               32833 non-null  float64\n",
      " 17  acousticness              32833 non-null  float64\n",
      " 18  instrumentalness          32833 non-null  float64\n",
      " 19  liveness                  32833 non-null  float64\n",
      " 20  valence                   32833 non-null  float64\n",
      " 21  tempo                     32833 non-null  float64\n",
      " 22  duration_ms               32833 non-null  int64  \n",
      "dtypes: float64(9), int64(4), object(10)\n",
      "memory usage: 5.8+ MB\n"
     ]
    }
   ],
   "source": [
    "df.info()"
   ]
  },
  {
   "cell_type": "markdown",
   "metadata": {},
   "source": [
    "```We need to convert track_album_release_date into datetime```"
   ]
  },
  {
   "cell_type": "code",
   "execution_count": 5,
   "metadata": {},
   "outputs": [
    {
     "data": {
      "text/plain": [
       "track_id                    0\n",
       "track_name                  5\n",
       "track_artist                5\n",
       "track_popularity            0\n",
       "track_album_id              0\n",
       "track_album_name            5\n",
       "track_album_release_date    0\n",
       "playlist_name               0\n",
       "playlist_id                 0\n",
       "playlist_genre              0\n",
       "playlist_subgenre           0\n",
       "danceability                0\n",
       "energy                      0\n",
       "key                         0\n",
       "loudness                    0\n",
       "mode                        0\n",
       "speechiness                 0\n",
       "acousticness                0\n",
       "instrumentalness            0\n",
       "liveness                    0\n",
       "valence                     0\n",
       "tempo                       0\n",
       "duration_ms                 0\n",
       "dtype: int64"
      ]
     },
     "execution_count": 5,
     "metadata": {},
     "output_type": "execute_result"
    }
   ],
   "source": [
    "df.isnull().sum()"
   ]
  },
  {
   "cell_type": "markdown",
   "metadata": {},
   "source": [
    "```track_name, track_artist, track_album_name contain missing values```"
   ]
  },
  {
   "cell_type": "code",
   "execution_count": 6,
   "metadata": {},
   "outputs": [
    {
     "data": {
      "text/html": [
       "<div>\n",
       "<style scoped>\n",
       "    .dataframe tbody tr th:only-of-type {\n",
       "        vertical-align: middle;\n",
       "    }\n",
       "\n",
       "    .dataframe tbody tr th {\n",
       "        vertical-align: top;\n",
       "    }\n",
       "\n",
       "    .dataframe thead th {\n",
       "        text-align: right;\n",
       "    }\n",
       "</style>\n",
       "<table border=\"1\" class=\"dataframe\">\n",
       "  <thead>\n",
       "    <tr style=\"text-align: right;\">\n",
       "      <th></th>\n",
       "      <th>track_popularity</th>\n",
       "      <th>danceability</th>\n",
       "      <th>energy</th>\n",
       "      <th>key</th>\n",
       "      <th>loudness</th>\n",
       "      <th>mode</th>\n",
       "      <th>speechiness</th>\n",
       "      <th>acousticness</th>\n",
       "      <th>instrumentalness</th>\n",
       "      <th>liveness</th>\n",
       "      <th>valence</th>\n",
       "      <th>tempo</th>\n",
       "      <th>duration_ms</th>\n",
       "    </tr>\n",
       "  </thead>\n",
       "  <tbody>\n",
       "    <tr>\n",
       "      <th>count</th>\n",
       "      <td>32833.000000</td>\n",
       "      <td>32833.000000</td>\n",
       "      <td>32833.000000</td>\n",
       "      <td>32833.000000</td>\n",
       "      <td>32833.000000</td>\n",
       "      <td>32833.000000</td>\n",
       "      <td>32833.000000</td>\n",
       "      <td>32833.000000</td>\n",
       "      <td>32833.000000</td>\n",
       "      <td>32833.000000</td>\n",
       "      <td>32833.000000</td>\n",
       "      <td>32833.000000</td>\n",
       "      <td>32833.000000</td>\n",
       "    </tr>\n",
       "    <tr>\n",
       "      <th>mean</th>\n",
       "      <td>42.477081</td>\n",
       "      <td>0.654850</td>\n",
       "      <td>0.698619</td>\n",
       "      <td>5.374471</td>\n",
       "      <td>-6.719499</td>\n",
       "      <td>0.565711</td>\n",
       "      <td>0.107068</td>\n",
       "      <td>0.175334</td>\n",
       "      <td>0.084747</td>\n",
       "      <td>0.190176</td>\n",
       "      <td>0.510561</td>\n",
       "      <td>120.881132</td>\n",
       "      <td>225799.811622</td>\n",
       "    </tr>\n",
       "    <tr>\n",
       "      <th>std</th>\n",
       "      <td>24.984074</td>\n",
       "      <td>0.145085</td>\n",
       "      <td>0.180910</td>\n",
       "      <td>3.611657</td>\n",
       "      <td>2.988436</td>\n",
       "      <td>0.495671</td>\n",
       "      <td>0.101314</td>\n",
       "      <td>0.219633</td>\n",
       "      <td>0.224230</td>\n",
       "      <td>0.154317</td>\n",
       "      <td>0.233146</td>\n",
       "      <td>26.903624</td>\n",
       "      <td>59834.006182</td>\n",
       "    </tr>\n",
       "    <tr>\n",
       "      <th>min</th>\n",
       "      <td>0.000000</td>\n",
       "      <td>0.000000</td>\n",
       "      <td>0.000175</td>\n",
       "      <td>0.000000</td>\n",
       "      <td>-46.448000</td>\n",
       "      <td>0.000000</td>\n",
       "      <td>0.000000</td>\n",
       "      <td>0.000000</td>\n",
       "      <td>0.000000</td>\n",
       "      <td>0.000000</td>\n",
       "      <td>0.000000</td>\n",
       "      <td>0.000000</td>\n",
       "      <td>4000.000000</td>\n",
       "    </tr>\n",
       "    <tr>\n",
       "      <th>25%</th>\n",
       "      <td>24.000000</td>\n",
       "      <td>0.563000</td>\n",
       "      <td>0.581000</td>\n",
       "      <td>2.000000</td>\n",
       "      <td>-8.171000</td>\n",
       "      <td>0.000000</td>\n",
       "      <td>0.041000</td>\n",
       "      <td>0.015100</td>\n",
       "      <td>0.000000</td>\n",
       "      <td>0.092700</td>\n",
       "      <td>0.331000</td>\n",
       "      <td>99.960000</td>\n",
       "      <td>187819.000000</td>\n",
       "    </tr>\n",
       "    <tr>\n",
       "      <th>50%</th>\n",
       "      <td>45.000000</td>\n",
       "      <td>0.672000</td>\n",
       "      <td>0.721000</td>\n",
       "      <td>6.000000</td>\n",
       "      <td>-6.166000</td>\n",
       "      <td>1.000000</td>\n",
       "      <td>0.062500</td>\n",
       "      <td>0.080400</td>\n",
       "      <td>0.000016</td>\n",
       "      <td>0.127000</td>\n",
       "      <td>0.512000</td>\n",
       "      <td>121.984000</td>\n",
       "      <td>216000.000000</td>\n",
       "    </tr>\n",
       "    <tr>\n",
       "      <th>75%</th>\n",
       "      <td>62.000000</td>\n",
       "      <td>0.761000</td>\n",
       "      <td>0.840000</td>\n",
       "      <td>9.000000</td>\n",
       "      <td>-4.645000</td>\n",
       "      <td>1.000000</td>\n",
       "      <td>0.132000</td>\n",
       "      <td>0.255000</td>\n",
       "      <td>0.004830</td>\n",
       "      <td>0.248000</td>\n",
       "      <td>0.693000</td>\n",
       "      <td>133.918000</td>\n",
       "      <td>253585.000000</td>\n",
       "    </tr>\n",
       "    <tr>\n",
       "      <th>max</th>\n",
       "      <td>100.000000</td>\n",
       "      <td>0.983000</td>\n",
       "      <td>1.000000</td>\n",
       "      <td>11.000000</td>\n",
       "      <td>1.275000</td>\n",
       "      <td>1.000000</td>\n",
       "      <td>0.918000</td>\n",
       "      <td>0.994000</td>\n",
       "      <td>0.994000</td>\n",
       "      <td>0.996000</td>\n",
       "      <td>0.991000</td>\n",
       "      <td>239.440000</td>\n",
       "      <td>517810.000000</td>\n",
       "    </tr>\n",
       "  </tbody>\n",
       "</table>\n",
       "</div>"
      ],
      "text/plain": [
       "       track_popularity  danceability        energy           key  \\\n",
       "count      32833.000000  32833.000000  32833.000000  32833.000000   \n",
       "mean          42.477081      0.654850      0.698619      5.374471   \n",
       "std           24.984074      0.145085      0.180910      3.611657   \n",
       "min            0.000000      0.000000      0.000175      0.000000   \n",
       "25%           24.000000      0.563000      0.581000      2.000000   \n",
       "50%           45.000000      0.672000      0.721000      6.000000   \n",
       "75%           62.000000      0.761000      0.840000      9.000000   \n",
       "max          100.000000      0.983000      1.000000     11.000000   \n",
       "\n",
       "           loudness          mode   speechiness  acousticness  \\\n",
       "count  32833.000000  32833.000000  32833.000000  32833.000000   \n",
       "mean      -6.719499      0.565711      0.107068      0.175334   \n",
       "std        2.988436      0.495671      0.101314      0.219633   \n",
       "min      -46.448000      0.000000      0.000000      0.000000   \n",
       "25%       -8.171000      0.000000      0.041000      0.015100   \n",
       "50%       -6.166000      1.000000      0.062500      0.080400   \n",
       "75%       -4.645000      1.000000      0.132000      0.255000   \n",
       "max        1.275000      1.000000      0.918000      0.994000   \n",
       "\n",
       "       instrumentalness      liveness       valence         tempo  \\\n",
       "count      32833.000000  32833.000000  32833.000000  32833.000000   \n",
       "mean           0.084747      0.190176      0.510561    120.881132   \n",
       "std            0.224230      0.154317      0.233146     26.903624   \n",
       "min            0.000000      0.000000      0.000000      0.000000   \n",
       "25%            0.000000      0.092700      0.331000     99.960000   \n",
       "50%            0.000016      0.127000      0.512000    121.984000   \n",
       "75%            0.004830      0.248000      0.693000    133.918000   \n",
       "max            0.994000      0.996000      0.991000    239.440000   \n",
       "\n",
       "         duration_ms  \n",
       "count   32833.000000  \n",
       "mean   225799.811622  \n",
       "std     59834.006182  \n",
       "min      4000.000000  \n",
       "25%    187819.000000  \n",
       "50%    216000.000000  \n",
       "75%    253585.000000  \n",
       "max    517810.000000  "
      ]
     },
     "execution_count": 6,
     "metadata": {},
     "output_type": "execute_result"
    }
   ],
   "source": [
    "df.describe()"
   ]
  },
  {
   "cell_type": "markdown",
   "metadata": {},
   "source": [
    "**Observations**\n",
    "- track_popularity Ranges from 0-100. Average track popularity is 42.48.Their is a slight difference between the mean and median.  \n",
    "- 25% of the track has popularity value above 62.\n",
    "- avg. daceability value of songs in our dataset has value around 0.65\n",
    "- avg. energy level of a song is 0.70. 25% of songs have an energy level above 0.84.\n",
    "- 50% Songs have a duration 0f 216000ms which is 216 seconds or 3 minutes 36sec or 3.6 minutes. \n",
    "- We have a song which is 517810 ms long which is 8.63 minutes long.Surely we have an outleir in this feature. (We will see which song is this)"
   ]
  },
  {
   "cell_type": "code",
   "execution_count": 7,
   "metadata": {},
   "outputs": [
    {
     "data": {
      "text/plain": [
       "track_id                    28356\n",
       "track_name                  23449\n",
       "track_artist                10692\n",
       "track_popularity              101\n",
       "track_album_id              22545\n",
       "track_album_name            19743\n",
       "track_album_release_date     4530\n",
       "playlist_name                 449\n",
       "playlist_id                   471\n",
       "playlist_genre                  6\n",
       "playlist_subgenre              24\n",
       "danceability                  822\n",
       "energy                        952\n",
       "key                            12\n",
       "loudness                    10222\n",
       "mode                            2\n",
       "speechiness                  1270\n",
       "acousticness                 3731\n",
       "instrumentalness             4729\n",
       "liveness                     1624\n",
       "valence                      1362\n",
       "tempo                       17684\n",
       "duration_ms                 19785\n",
       "dtype: int64"
      ]
     },
     "execution_count": 7,
     "metadata": {},
     "output_type": "execute_result"
    }
   ],
   "source": [
    "# checking uniqueness\n",
    "df.nunique()"
   ]
  },
  {
   "cell_type": "code",
   "execution_count": 8,
   "metadata": {},
   "outputs": [
    {
     "data": {
      "text/plain": [
       "0"
      ]
     },
     "execution_count": 8,
     "metadata": {},
     "output_type": "execute_result"
    }
   ],
   "source": [
    "# checking for duplicate values\n",
    "df.duplicated().sum()"
   ]
  },
  {
   "cell_type": "markdown",
   "metadata": {},
   "source": [
    "```There are no duplicate values in our dataset```"
   ]
  },
  {
   "cell_type": "markdown",
   "metadata": {},
   "source": [
    "## [5] Data Preprocessing"
   ]
  },
  {
   "cell_type": "markdown",
   "metadata": {},
   "source": [
    "```\n",
    "Lets take care of:\n",
    "    -   Missing values\n",
    "    -   track_album_release_date to datetime\n",
    "```"
   ]
  },
  {
   "cell_type": "code",
   "execution_count": 9,
   "metadata": {},
   "outputs": [],
   "source": [
    "df.dropna(inplace=True)"
   ]
  },
  {
   "cell_type": "code",
   "execution_count": 10,
   "metadata": {},
   "outputs": [
    {
     "data": {
      "text/plain": [
       "track_id                    0\n",
       "track_name                  0\n",
       "track_artist                0\n",
       "track_popularity            0\n",
       "track_album_id              0\n",
       "track_album_name            0\n",
       "track_album_release_date    0\n",
       "playlist_name               0\n",
       "playlist_id                 0\n",
       "playlist_genre              0\n",
       "playlist_subgenre           0\n",
       "danceability                0\n",
       "energy                      0\n",
       "key                         0\n",
       "loudness                    0\n",
       "mode                        0\n",
       "speechiness                 0\n",
       "acousticness                0\n",
       "instrumentalness            0\n",
       "liveness                    0\n",
       "valence                     0\n",
       "tempo                       0\n",
       "duration_ms                 0\n",
       "dtype: int64"
      ]
     },
     "execution_count": 10,
     "metadata": {},
     "output_type": "execute_result"
    }
   ],
   "source": [
    "df.isnull().sum()"
   ]
  },
  {
   "cell_type": "markdown",
   "metadata": {},
   "source": [
    "```There are no duplicate values```"
   ]
  },
  {
   "cell_type": "code",
   "execution_count": 13,
   "metadata": {},
   "outputs": [
    {
     "data": {
      "text/plain": [
       "dtype('O')"
      ]
     },
     "execution_count": 13,
     "metadata": {},
     "output_type": "execute_result"
    }
   ],
   "source": [
    "df['track_album_release_date'].dtype"
   ]
  },
  {
   "cell_type": "code",
   "execution_count": 14,
   "metadata": {},
   "outputs": [
    {
     "data": {
      "text/plain": [
       "track_album_release_date\n",
       "2020-01-10    270\n",
       "2019-11-22    244\n",
       "2019-12-06    235\n",
       "2019-12-13    220\n",
       "2013-01-01    219\n",
       "             ... \n",
       "1973-08-28      1\n",
       "2000-03-23      1\n",
       "1967-04         1\n",
       "1968-07-03      1\n",
       "2014-04-18      1\n",
       "Name: count, Length: 4529, dtype: int64"
      ]
     },
     "execution_count": 14,
     "metadata": {},
     "output_type": "execute_result"
    }
   ],
   "source": [
    "df['track_album_release_date'].value_counts()"
   ]
  },
  {
   "cell_type": "code",
   "execution_count": 16,
   "metadata": {},
   "outputs": [],
   "source": [
    "# Lets extract year and month from track_album_release_date\n",
    "df['album_release_year'] = pd.DatetimeIndex(df['track_album_release_date']).year\n",
    "df['album_release_month'] = pd.DatetimeIndex(df['track_album_release_date']).month"
   ]
  },
  {
   "cell_type": "code",
   "execution_count": 17,
   "metadata": {},
   "outputs": [
    {
     "data": {
      "text/html": [
       "<div>\n",
       "<style scoped>\n",
       "    .dataframe tbody tr th:only-of-type {\n",
       "        vertical-align: middle;\n",
       "    }\n",
       "\n",
       "    .dataframe tbody tr th {\n",
       "        vertical-align: top;\n",
       "    }\n",
       "\n",
       "    .dataframe thead th {\n",
       "        text-align: right;\n",
       "    }\n",
       "</style>\n",
       "<table border=\"1\" class=\"dataframe\">\n",
       "  <thead>\n",
       "    <tr style=\"text-align: right;\">\n",
       "      <th></th>\n",
       "      <th>0</th>\n",
       "      <th>1</th>\n",
       "      <th>2</th>\n",
       "      <th>3</th>\n",
       "      <th>4</th>\n",
       "    </tr>\n",
       "  </thead>\n",
       "  <tbody>\n",
       "    <tr>\n",
       "      <th>track_id</th>\n",
       "      <td>6f807x0ima9a1j3VPbc7VN</td>\n",
       "      <td>0r7CVbZTWZgbTCYdfa2P31</td>\n",
       "      <td>1z1Hg7Vb0AhHDiEmnDE79l</td>\n",
       "      <td>75FpbthrwQmzHlBJLuGdC7</td>\n",
       "      <td>1e8PAfcKUYoKkxPhrHqw4x</td>\n",
       "    </tr>\n",
       "    <tr>\n",
       "      <th>track_name</th>\n",
       "      <td>I Don't Care (with Justin Bieber) - Loud Luxur...</td>\n",
       "      <td>Memories - Dillon Francis Remix</td>\n",
       "      <td>All the Time - Don Diablo Remix</td>\n",
       "      <td>Call You Mine - Keanu Silva Remix</td>\n",
       "      <td>Someone You Loved - Future Humans Remix</td>\n",
       "    </tr>\n",
       "    <tr>\n",
       "      <th>track_artist</th>\n",
       "      <td>Ed Sheeran</td>\n",
       "      <td>Maroon 5</td>\n",
       "      <td>Zara Larsson</td>\n",
       "      <td>The Chainsmokers</td>\n",
       "      <td>Lewis Capaldi</td>\n",
       "    </tr>\n",
       "    <tr>\n",
       "      <th>track_popularity</th>\n",
       "      <td>66</td>\n",
       "      <td>67</td>\n",
       "      <td>70</td>\n",
       "      <td>60</td>\n",
       "      <td>69</td>\n",
       "    </tr>\n",
       "    <tr>\n",
       "      <th>track_album_id</th>\n",
       "      <td>2oCs0DGTsRO98Gh5ZSl2Cx</td>\n",
       "      <td>63rPSO264uRjW1X5E6cWv6</td>\n",
       "      <td>1HoSmj2eLcsrR0vE9gThr4</td>\n",
       "      <td>1nqYsOef1yKKuGOVchbsk6</td>\n",
       "      <td>7m7vv9wlQ4i0LFuJiE2zsQ</td>\n",
       "    </tr>\n",
       "    <tr>\n",
       "      <th>track_album_name</th>\n",
       "      <td>I Don't Care (with Justin Bieber) [Loud Luxury...</td>\n",
       "      <td>Memories (Dillon Francis Remix)</td>\n",
       "      <td>All the Time (Don Diablo Remix)</td>\n",
       "      <td>Call You Mine - The Remixes</td>\n",
       "      <td>Someone You Loved (Future Humans Remix)</td>\n",
       "    </tr>\n",
       "    <tr>\n",
       "      <th>track_album_release_date</th>\n",
       "      <td>2019-06-14</td>\n",
       "      <td>2019-12-13</td>\n",
       "      <td>2019-07-05</td>\n",
       "      <td>2019-07-19</td>\n",
       "      <td>2019-03-05</td>\n",
       "    </tr>\n",
       "    <tr>\n",
       "      <th>playlist_name</th>\n",
       "      <td>Pop Remix</td>\n",
       "      <td>Pop Remix</td>\n",
       "      <td>Pop Remix</td>\n",
       "      <td>Pop Remix</td>\n",
       "      <td>Pop Remix</td>\n",
       "    </tr>\n",
       "    <tr>\n",
       "      <th>playlist_id</th>\n",
       "      <td>37i9dQZF1DXcZDD7cfEKhW</td>\n",
       "      <td>37i9dQZF1DXcZDD7cfEKhW</td>\n",
       "      <td>37i9dQZF1DXcZDD7cfEKhW</td>\n",
       "      <td>37i9dQZF1DXcZDD7cfEKhW</td>\n",
       "      <td>37i9dQZF1DXcZDD7cfEKhW</td>\n",
       "    </tr>\n",
       "    <tr>\n",
       "      <th>playlist_genre</th>\n",
       "      <td>pop</td>\n",
       "      <td>pop</td>\n",
       "      <td>pop</td>\n",
       "      <td>pop</td>\n",
       "      <td>pop</td>\n",
       "    </tr>\n",
       "    <tr>\n",
       "      <th>playlist_subgenre</th>\n",
       "      <td>dance pop</td>\n",
       "      <td>dance pop</td>\n",
       "      <td>dance pop</td>\n",
       "      <td>dance pop</td>\n",
       "      <td>dance pop</td>\n",
       "    </tr>\n",
       "    <tr>\n",
       "      <th>danceability</th>\n",
       "      <td>0.748</td>\n",
       "      <td>0.726</td>\n",
       "      <td>0.675</td>\n",
       "      <td>0.718</td>\n",
       "      <td>0.65</td>\n",
       "    </tr>\n",
       "    <tr>\n",
       "      <th>energy</th>\n",
       "      <td>0.916</td>\n",
       "      <td>0.815</td>\n",
       "      <td>0.931</td>\n",
       "      <td>0.93</td>\n",
       "      <td>0.833</td>\n",
       "    </tr>\n",
       "    <tr>\n",
       "      <th>key</th>\n",
       "      <td>6</td>\n",
       "      <td>11</td>\n",
       "      <td>1</td>\n",
       "      <td>7</td>\n",
       "      <td>1</td>\n",
       "    </tr>\n",
       "    <tr>\n",
       "      <th>loudness</th>\n",
       "      <td>-2.634</td>\n",
       "      <td>-4.969</td>\n",
       "      <td>-3.432</td>\n",
       "      <td>-3.778</td>\n",
       "      <td>-4.672</td>\n",
       "    </tr>\n",
       "    <tr>\n",
       "      <th>mode</th>\n",
       "      <td>1</td>\n",
       "      <td>1</td>\n",
       "      <td>0</td>\n",
       "      <td>1</td>\n",
       "      <td>1</td>\n",
       "    </tr>\n",
       "    <tr>\n",
       "      <th>speechiness</th>\n",
       "      <td>0.0583</td>\n",
       "      <td>0.0373</td>\n",
       "      <td>0.0742</td>\n",
       "      <td>0.102</td>\n",
       "      <td>0.0359</td>\n",
       "    </tr>\n",
       "    <tr>\n",
       "      <th>acousticness</th>\n",
       "      <td>0.102</td>\n",
       "      <td>0.0724</td>\n",
       "      <td>0.0794</td>\n",
       "      <td>0.0287</td>\n",
       "      <td>0.0803</td>\n",
       "    </tr>\n",
       "    <tr>\n",
       "      <th>instrumentalness</th>\n",
       "      <td>0.0</td>\n",
       "      <td>0.00421</td>\n",
       "      <td>0.000023</td>\n",
       "      <td>0.000009</td>\n",
       "      <td>0.0</td>\n",
       "    </tr>\n",
       "    <tr>\n",
       "      <th>liveness</th>\n",
       "      <td>0.0653</td>\n",
       "      <td>0.357</td>\n",
       "      <td>0.11</td>\n",
       "      <td>0.204</td>\n",
       "      <td>0.0833</td>\n",
       "    </tr>\n",
       "    <tr>\n",
       "      <th>valence</th>\n",
       "      <td>0.518</td>\n",
       "      <td>0.693</td>\n",
       "      <td>0.613</td>\n",
       "      <td>0.277</td>\n",
       "      <td>0.725</td>\n",
       "    </tr>\n",
       "    <tr>\n",
       "      <th>tempo</th>\n",
       "      <td>122.036</td>\n",
       "      <td>99.972</td>\n",
       "      <td>124.008</td>\n",
       "      <td>121.956</td>\n",
       "      <td>123.976</td>\n",
       "    </tr>\n",
       "    <tr>\n",
       "      <th>duration_ms</th>\n",
       "      <td>194754</td>\n",
       "      <td>162600</td>\n",
       "      <td>176616</td>\n",
       "      <td>169093</td>\n",
       "      <td>189052</td>\n",
       "    </tr>\n",
       "    <tr>\n",
       "      <th>album_release_year</th>\n",
       "      <td>2019</td>\n",
       "      <td>2019</td>\n",
       "      <td>2019</td>\n",
       "      <td>2019</td>\n",
       "      <td>2019</td>\n",
       "    </tr>\n",
       "    <tr>\n",
       "      <th>album_release_month</th>\n",
       "      <td>6</td>\n",
       "      <td>12</td>\n",
       "      <td>7</td>\n",
       "      <td>7</td>\n",
       "      <td>3</td>\n",
       "    </tr>\n",
       "  </tbody>\n",
       "</table>\n",
       "</div>"
      ],
      "text/plain": [
       "                                                                          0  \\\n",
       "track_id                                             6f807x0ima9a1j3VPbc7VN   \n",
       "track_name                I Don't Care (with Justin Bieber) - Loud Luxur...   \n",
       "track_artist                                                     Ed Sheeran   \n",
       "track_popularity                                                         66   \n",
       "track_album_id                                       2oCs0DGTsRO98Gh5ZSl2Cx   \n",
       "track_album_name          I Don't Care (with Justin Bieber) [Loud Luxury...   \n",
       "track_album_release_date                                         2019-06-14   \n",
       "playlist_name                                                     Pop Remix   \n",
       "playlist_id                                          37i9dQZF1DXcZDD7cfEKhW   \n",
       "playlist_genre                                                          pop   \n",
       "playlist_subgenre                                                 dance pop   \n",
       "danceability                                                          0.748   \n",
       "energy                                                                0.916   \n",
       "key                                                                       6   \n",
       "loudness                                                             -2.634   \n",
       "mode                                                                      1   \n",
       "speechiness                                                          0.0583   \n",
       "acousticness                                                          0.102   \n",
       "instrumentalness                                                        0.0   \n",
       "liveness                                                             0.0653   \n",
       "valence                                                               0.518   \n",
       "tempo                                                               122.036   \n",
       "duration_ms                                                          194754   \n",
       "album_release_year                                                     2019   \n",
       "album_release_month                                                       6   \n",
       "\n",
       "                                                        1  \\\n",
       "track_id                           0r7CVbZTWZgbTCYdfa2P31   \n",
       "track_name                Memories - Dillon Francis Remix   \n",
       "track_artist                                     Maroon 5   \n",
       "track_popularity                                       67   \n",
       "track_album_id                     63rPSO264uRjW1X5E6cWv6   \n",
       "track_album_name          Memories (Dillon Francis Remix)   \n",
       "track_album_release_date                       2019-12-13   \n",
       "playlist_name                                   Pop Remix   \n",
       "playlist_id                        37i9dQZF1DXcZDD7cfEKhW   \n",
       "playlist_genre                                        pop   \n",
       "playlist_subgenre                               dance pop   \n",
       "danceability                                        0.726   \n",
       "energy                                              0.815   \n",
       "key                                                    11   \n",
       "loudness                                           -4.969   \n",
       "mode                                                    1   \n",
       "speechiness                                        0.0373   \n",
       "acousticness                                       0.0724   \n",
       "instrumentalness                                  0.00421   \n",
       "liveness                                            0.357   \n",
       "valence                                             0.693   \n",
       "tempo                                              99.972   \n",
       "duration_ms                                        162600   \n",
       "album_release_year                                   2019   \n",
       "album_release_month                                    12   \n",
       "\n",
       "                                                        2  \\\n",
       "track_id                           1z1Hg7Vb0AhHDiEmnDE79l   \n",
       "track_name                All the Time - Don Diablo Remix   \n",
       "track_artist                                 Zara Larsson   \n",
       "track_popularity                                       70   \n",
       "track_album_id                     1HoSmj2eLcsrR0vE9gThr4   \n",
       "track_album_name          All the Time (Don Diablo Remix)   \n",
       "track_album_release_date                       2019-07-05   \n",
       "playlist_name                                   Pop Remix   \n",
       "playlist_id                        37i9dQZF1DXcZDD7cfEKhW   \n",
       "playlist_genre                                        pop   \n",
       "playlist_subgenre                               dance pop   \n",
       "danceability                                        0.675   \n",
       "energy                                              0.931   \n",
       "key                                                     1   \n",
       "loudness                                           -3.432   \n",
       "mode                                                    0   \n",
       "speechiness                                        0.0742   \n",
       "acousticness                                       0.0794   \n",
       "instrumentalness                                 0.000023   \n",
       "liveness                                             0.11   \n",
       "valence                                             0.613   \n",
       "tempo                                             124.008   \n",
       "duration_ms                                        176616   \n",
       "album_release_year                                   2019   \n",
       "album_release_month                                     7   \n",
       "\n",
       "                                                          3  \\\n",
       "track_id                             75FpbthrwQmzHlBJLuGdC7   \n",
       "track_name                Call You Mine - Keanu Silva Remix   \n",
       "track_artist                               The Chainsmokers   \n",
       "track_popularity                                         60   \n",
       "track_album_id                       1nqYsOef1yKKuGOVchbsk6   \n",
       "track_album_name                Call You Mine - The Remixes   \n",
       "track_album_release_date                         2019-07-19   \n",
       "playlist_name                                     Pop Remix   \n",
       "playlist_id                          37i9dQZF1DXcZDD7cfEKhW   \n",
       "playlist_genre                                          pop   \n",
       "playlist_subgenre                                 dance pop   \n",
       "danceability                                          0.718   \n",
       "energy                                                 0.93   \n",
       "key                                                       7   \n",
       "loudness                                             -3.778   \n",
       "mode                                                      1   \n",
       "speechiness                                           0.102   \n",
       "acousticness                                         0.0287   \n",
       "instrumentalness                                   0.000009   \n",
       "liveness                                              0.204   \n",
       "valence                                               0.277   \n",
       "tempo                                               121.956   \n",
       "duration_ms                                          169093   \n",
       "album_release_year                                     2019   \n",
       "album_release_month                                       7   \n",
       "\n",
       "                                                                4  \n",
       "track_id                                   1e8PAfcKUYoKkxPhrHqw4x  \n",
       "track_name                Someone You Loved - Future Humans Remix  \n",
       "track_artist                                        Lewis Capaldi  \n",
       "track_popularity                                               69  \n",
       "track_album_id                             7m7vv9wlQ4i0LFuJiE2zsQ  \n",
       "track_album_name          Someone You Loved (Future Humans Remix)  \n",
       "track_album_release_date                               2019-03-05  \n",
       "playlist_name                                           Pop Remix  \n",
       "playlist_id                                37i9dQZF1DXcZDD7cfEKhW  \n",
       "playlist_genre                                                pop  \n",
       "playlist_subgenre                                       dance pop  \n",
       "danceability                                                 0.65  \n",
       "energy                                                      0.833  \n",
       "key                                                             1  \n",
       "loudness                                                   -4.672  \n",
       "mode                                                            1  \n",
       "speechiness                                                0.0359  \n",
       "acousticness                                               0.0803  \n",
       "instrumentalness                                              0.0  \n",
       "liveness                                                   0.0833  \n",
       "valence                                                     0.725  \n",
       "tempo                                                     123.976  \n",
       "duration_ms                                                189052  \n",
       "album_release_year                                           2019  \n",
       "album_release_month                                             3  "
      ]
     },
     "execution_count": 17,
     "metadata": {},
     "output_type": "execute_result"
    }
   ],
   "source": [
    "df.head().T"
   ]
  },
  {
   "cell_type": "markdown",
   "metadata": {},
   "source": [
    "## [6] Exploratory Data Analysis"
   ]
  },
  {
   "cell_type": "code",
   "execution_count": 18,
   "metadata": {},
   "outputs": [
    {
     "data": {
      "text/plain": [
       "Index(['track_id', 'track_name', 'track_artist', 'track_popularity',\n",
       "       'track_album_id', 'track_album_name', 'track_album_release_date',\n",
       "       'playlist_name', 'playlist_id', 'playlist_genre', 'playlist_subgenre',\n",
       "       'danceability', 'energy', 'key', 'loudness', 'mode', 'speechiness',\n",
       "       'acousticness', 'instrumentalness', 'liveness', 'valence', 'tempo',\n",
       "       'duration_ms', 'album_release_year', 'album_release_month'],\n",
       "      dtype='object')"
      ]
     },
     "execution_count": 18,
     "metadata": {},
     "output_type": "execute_result"
    }
   ],
   "source": [
    "df.columns"
   ]
  },
  {
   "cell_type": "markdown",
   "metadata": {},
   "source": [
    "#### **Uni-variate Analysis**"
   ]
  },
  {
   "cell_type": "markdown",
   "metadata": {},
   "source": [
    "<p style=\"color: green\">How many unique songs are there in our dataset?</p>"
   ]
  },
  {
   "cell_type": "code",
   "execution_count": 21,
   "metadata": {},
   "outputs": [
    {
     "data": {
      "text/plain": [
       "(28352,)"
      ]
     },
     "execution_count": 21,
     "metadata": {},
     "output_type": "execute_result"
    }
   ],
   "source": [
    "# checking uniqueness using track_id\n",
    "df['track_id'].unique().shape"
   ]
  },
  {
   "cell_type": "markdown",
   "metadata": {},
   "source": [
    "```There are 28352 unique songs```"
   ]
  },
  {
   "cell_type": "markdown",
   "metadata": {},
   "source": [
    "<p style=\"color: green\">Which artist has the most track in our dataset</p>"
   ]
  },
  {
   "cell_type": "code",
   "execution_count": 25,
   "metadata": {},
   "outputs": [
    {
     "data": {
      "text/plain": [
       "track_artist\n",
       "Martin Garrix                161\n",
       "Queen                        136\n",
       "The Chainsmokers             123\n",
       "David Guetta                 110\n",
       "Don Omar                     102\n",
       "Drake                        100\n",
       "Dimitri Vegas & Like Mike     93\n",
       "Calvin Harris                 91\n",
       "Hardwell                      84\n",
       "Kygo                          83\n",
       "Name: count, dtype: int64"
      ]
     },
     "execution_count": 25,
     "metadata": {},
     "output_type": "execute_result"
    }
   ],
   "source": [
    "# Top 10 artists with many songs\n",
    "df['track_artist'].value_counts().head(10)"
   ]
  },
  {
   "cell_type": "markdown",
   "metadata": {},
   "source": [
    "```Martin Garrix lead with 161 tracks followed by Queen, The Chainsmokers ,,,```"
   ]
  },
  {
   "cell_type": "code",
   "execution_count": 30,
   "metadata": {},
   "outputs": [
    {
     "data": {
      "text/plain": [
       "<Axes: xlabel='track_popularity', ylabel='Count'>"
      ]
     },
     "execution_count": 30,
     "metadata": {},
     "output_type": "execute_result"
    },
    {
     "data": {
      "image/png": "[encoded data removed]",
      "text/plain": [
       "<Figure size 640x480 with 1 Axes>"
      ]
     },
     "metadata": {},
     "output_type": "display_data"
    }
   ],
   "source": [
    "sns.histplot(data=df, x='track_popularity',kde=True)"
   ]
  },
  {
   "cell_type": "markdown",
   "metadata": {},
   "source": [
    "<p style='color:green'>What is the distribution of genre and what genre has the maximum songs?</p>"
   ]
  },
  {
   "cell_type": "code",
   "execution_count": 31,
   "metadata": {},
   "outputs": [
    {
     "data": {
      "text/plain": [
       "playlist_genre\n",
       "edm      6043\n",
       "rap      5743\n",
       "pop      5507\n",
       "r&b      5431\n",
       "latin    5153\n",
       "rock     4951\n",
       "Name: count, dtype: int64"
      ]
     },
     "execution_count": 31,
     "metadata": {},
     "output_type": "execute_result"
    }
   ],
   "source": [
    "df['playlist_genre'].value_counts()"
   ]
  },
  {
   "cell_type": "code",
   "execution_count": 32,
   "metadata": {},
   "outputs": [
    {
     "data": {
      "text/plain": [
       "<Axes: xlabel='playlist_genre', ylabel='count'>"
      ]
     },
     "execution_count": 32,
     "metadata": {},
     "output_type": "execute_result"
    },
    {
     "data": {
      "image/png": "[encoded data removed]",
      "text/plain": [
       "<Figure size 640x480 with 1 Axes>"
      ]
     },
     "metadata": {},
     "output_type": "display_data"
    }
   ],
   "source": [
    "# visualize it using countplot\n",
    "sns.countplot(data=df, x='playlist_genre')"
   ]
  },
  {
   "cell_type": "markdown",
   "metadata": {},
   "source": [
    "```edm is the most popular genre followed by rap, pop, r&b, latin and rock ```"
   ]
  },
  {
   "cell_type": "markdown",
   "metadata": {},
   "source": [
    "<p style=\"color:green\">Which sub-genre is most popular in our dataset</p>"
   ]
  },
  {
   "cell_type": "code",
   "execution_count": 36,
   "metadata": {},
   "outputs": [
    {
     "data": {
      "text/plain": [
       "playlist_subgenre\n",
       "progressive electro house    1809\n",
       "southern hip hop             1674\n",
       "indie poptimism              1672\n",
       "latin hip hop                1655\n",
       "neo soul                     1637\n",
       "pop edm                      1517\n",
       "electro house                1511\n",
       "hard rock                    1485\n",
       "gangster rap                 1456\n",
       "electropop                   1408\n",
       "urban contemporary           1405\n",
       "hip hop                      1322\n",
       "dance pop                    1298\n",
       "classic rock                 1296\n",
       "trap                         1291\n",
       "tropical                     1288\n",
       "latin pop                    1262\n",
       "hip pop                      1256\n",
       "big room                     1206\n",
       "new jack swing               1133\n",
       "post-teen pop                1129\n",
       "permanent wave               1105\n",
       "album rock                   1065\n",
       "reggaeton                     948\n",
       "Name: count, dtype: int64"
      ]
     },
     "execution_count": 36,
     "metadata": {},
     "output_type": "execute_result"
    }
   ],
   "source": [
    "df['playlist_subgenre'].value_counts()"
   ]
  },
  {
   "cell_type": "code",
   "execution_count": 42,
   "metadata": {},
   "outputs": [
    {
     "data": {
      "image/png": "[encoded data removed]",
      "text/plain": [
       "<Figure size 1500x700 with 1 Axes>"
      ]
     },
     "metadata": {},
     "output_type": "display_data"
    }
   ],
   "source": [
    "# visualization\n",
    "paper = plt.figure(figsize=(15,7))\n",
    "df['playlist_subgenre'].value_counts()[:10].plot.bar(color='grey')\n",
    "plt.title('playlist_subgenre',size=14)\n",
    "plt.xlabel('palylist_subgenre',size=12)\n",
    "plt.ylabel('Count',size=12)\n",
    "plt.xticks(rotation=45)\n",
    "plt.show()\n"
   ]
  },
  {
   "cell_type": "markdown",
   "metadata": {},
   "source": [
    "```progressive electro house is the most popuar sub-genre ```"
   ]
  },
  {
   "cell_type": "markdown",
   "metadata": {},
   "source": [
    "<p style='color:green'>What is the distribution of the following features: <strong>danceability,energy,loudness,speechiness,acousticness,instrumentalness, liveness,valence and tempo</strong></p>"
   ]
  },
  {
   "cell_type": "code",
   "execution_count": 45,
   "metadata": {},
   "outputs": [],
   "source": [
    "def plot(col):\n",
    "    fig, axes = plt.subplots(1, 2, figsize=(10, 5), gridspec_kw={'wspace': 0.4, 'hspace': 0.4})\n",
    "    sns.boxplot(data=df, x=col, ax=axes[0])\n",
    "    sns.distplot(a=df[col], ax=axes[1], color='#ff4125')\n",
    "    plt.show()"
   ]
  },
  {
   "cell_type": "code",
   "execution_count": 46,
   "metadata": {},
   "outputs": [
    {
     "data": {
      "image/png": "[encoded data removed]",
      "text/plain": [
       "<Figure size 1000x500 with 2 Axes>"
      ]
     },
     "metadata": {},
     "output_type": "display_data"
    }
   ],
   "source": [
    "plot('danceability')"
   ]
  },
  {
   "cell_type": "markdown",
   "metadata": {},
   "source": [
    "```danceability has an outlier```"
   ]
  },
  {
   "cell_type": "code",
   "execution_count": 47,
   "metadata": {},
   "outputs": [
    {
     "data": {
      "image/png": "[encoded data removed]",
      "text/plain": [
       "<Figure size 1000x500 with 2 Axes>"
      ]
     },
     "metadata": {},
     "output_type": "display_data"
    }
   ],
   "source": [
    "plot('energy')"
   ]
  },
  {
   "cell_type": "code",
   "execution_count": null,
   "metadata": {},
   "outputs": [],
   "source": []
  }
 ],
 "metadata": {
  "kernelspec": {
   "display_name": "Python 3",
   "language": "python",
   "name": "python3"
  },
  "language_info": {
   "codemirror_mode": {
    "name": "ipython",
    "version": 3
   },
   "file_extension": ".py",
   "mimetype": "text/x-python",
   "name": "python",
   "nbconvert_exporter": "python",
   "pygments_lexer": "ipython3",
   "version": "3.10.12"
  }
 },
 "nbformat": 4,
 "nbformat_minor": 2
}
